{
 "cells": [
  {
   "cell_type": "markdown",
   "id": "73735547-5bce-4d1d-b3d1-48d3d8f64c07",
   "metadata": {},
   "source": [
    "# Data Science Tools and Ecosystem"
   ]
  },
  {
   "cell_type": "markdown",
   "id": "0b55e394-d2f1-4bd9-a6cc-ed0b376064cf",
   "metadata": {},
   "source": [
    "## In this notebook, Data Science Tools and Ecosystem are summarized."
   ]
  },
  {
   "cell_type": "markdown",
   "id": "ff513a70-f402-4c94-bf8b-f0652d748883",
   "metadata": {},
   "source": [
    "**Objectives:**\n",
    "\n",
    "* List popular languages for Data Science\n",
    "* List popular libraries for Data Science\n",
    "* Create a table"
   ]
  },
  {
   "cell_type": "markdown",
   "id": "e5ca94b7-fc15-4e76-acfd-88ae290f1d95",
   "metadata": {},
   "source": [
    "Some of the popular languages that Data Scientists use are:\n",
    "\n",
    "1. Python\n",
    "2. R\n",
    "3. Statica"
   ]
  },
  {
   "cell_type": "markdown",
   "id": "d3295b92-6ba0-49d1-818e-f5268591e6d5",
   "metadata": {},
   "source": [
    "Some of the commonly used libraries used by Data Scientists include:\n",
    "\n",
    "1. Pandas\n",
    "2. Matplotlib\n",
    "3.  Numpy"
   ]
  },
  {
   "cell_type": "markdown",
   "id": "a17f7cf8-46fd-46af-aff5-4bcb62320ae6",
   "metadata": {},
   "source": [
    "Data Sciences Tools Table\n",
    "\n",
    "| Data Sciences Tools |\n",
    "|---------------------|\n",
    "| Hadoop              |\n",
    "| Collab              |\n",
    "| Anaconda            |"
   ]
  },
  {
   "cell_type": "markdown",
   "id": "0150ebab-ffd4-4674-9132-961f0666a358",
   "metadata": {},
   "source": [
    "### Below are a few examples of evaluating arithmetic expressions in Python"
   ]
  },
  {
   "cell_type": "code",
   "execution_count": 8,
   "id": "212a1e8c-4b2a-42e6-90da-6b10dc16ef81",
   "metadata": {},
   "outputs": [
    {
     "data": {
      "text/plain": [
       "17"
      ]
     },
     "execution_count": 8,
     "metadata": {},
     "output_type": "execute_result"
    }
   ],
   "source": [
    "#This a simple arithmetic expression to mutiply then add integers\n",
    "\n",
    "(3*4)+5"
   ]
  },
  {
   "cell_type": "code",
   "execution_count": 7,
   "id": "f209ea22-f2f9-4245-9750-004513517847",
   "metadata": {},
   "outputs": [
    {
     "data": {
      "text/plain": [
       "3.3333333333333335"
      ]
     },
     "execution_count": 7,
     "metadata": {},
     "output_type": "execute_result"
    }
   ],
   "source": [
    "# This will convert 200 minutes to hours by diving by 60\n",
    "\n",
    "200/60"
   ]
  },
  {
   "cell_type": "markdown",
   "id": "477a49db-2f3c-4b51-a554-803e4d2df978",
   "metadata": {},
   "source": [
    "## Author\n",
    "\n",
    "Arnoldo Gonzalez"
   ]
  }
 ],
 "metadata": {
  "kernelspec": {
   "display_name": "Python 3 (ipykernel)",
   "language": "python",
   "name": "python3"
  },
  "language_info": {
   "codemirror_mode": {
    "name": "ipython",
    "version": 3
   },
   "file_extension": ".py",
   "mimetype": "text/x-python",
   "name": "python",
   "nbconvert_exporter": "python",
   "pygments_lexer": "ipython3",
   "version": "3.12.2"
  }
 },
 "nbformat": 4,
 "nbformat_minor": 5
}
